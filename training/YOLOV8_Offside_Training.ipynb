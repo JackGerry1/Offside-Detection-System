{
 "cells": [
  {
   "cell_type": "code",
   "execution_count": null,
   "metadata": {
    "colab": {
     "base_uri": "https://localhost:8080/"
    },
    "executionInfo": {
     "elapsed": 419,
     "status": "ok",
     "timestamp": 1731930877913,
     "user": {
      "displayName": "Jack Gerry",
      "userId": "13812958749877844851"
     },
     "user_tz": 0
    },
    "id": "vxSJr3v3U4gs",
    "outputId": "954c9ab0-1e5e-4961-d2c7-a73071133cca"
   },
   "outputs": [
    {
     "name": "stdout",
     "output_type": "stream",
     "text": [
      "Mon Nov 18 11:54:37 2024       \n",
      "+---------------------------------------------------------------------------------------+\n",
      "| NVIDIA-SMI 535.104.05             Driver Version: 535.104.05   CUDA Version: 12.2     |\n",
      "|-----------------------------------------+----------------------+----------------------+\n",
      "| GPU  Name                 Persistence-M | Bus-Id        Disp.A | Volatile Uncorr. ECC |\n",
      "| Fan  Temp   Perf          Pwr:Usage/Cap |         Memory-Usage | GPU-Util  Compute M. |\n",
      "|                                         |                      |               MIG M. |\n",
      "|=========================================+======================+======================|\n",
      "|   0  Tesla T4                       Off | 00000000:00:04.0 Off |                    0 |\n",
      "| N/A   54C    P8              12W /  70W |      0MiB / 15360MiB |      0%      Default |\n",
      "|                                         |                      |                  N/A |\n",
      "+-----------------------------------------+----------------------+----------------------+\n",
      "                                                                                         \n",
      "+---------------------------------------------------------------------------------------+\n",
      "| Processes:                                                                            |\n",
      "|  GPU   GI   CI        PID   Type   Process name                            GPU Memory |\n",
      "|        ID   ID                                                             Usage      |\n",
      "|=======================================================================================|\n",
      "|  No running processes found                                                           |\n",
      "+---------------------------------------------------------------------------------------+\n"
     ]
    }
   ],
   "source": [
    "!nvidia-smi\n"
   ]
  },
  {
   "cell_type": "code",
   "execution_count": 1,
   "metadata": {
    "colab": {
     "base_uri": "https://localhost:8080/"
    },
    "executionInfo": {
     "elapsed": 6646,
     "status": "ok",
     "timestamp": 1732207841302,
     "user": {
      "displayName": "Jack Gerry",
      "userId": "13812958749877844851"
     },
     "user_tz": 0
    },
    "id": "uNp8BwU7WeKs",
    "outputId": "97ba7843-d0c4-4ba7-b797-7b23f5fc1f4a"
   },
   "outputs": [
    {
     "name": "stdout",
     "output_type": "stream",
     "text": [
      "Collecting ultralytics==8.0.196\n",
      "  Downloading ultralytics-8.0.196-py3-none-any.whl.metadata (31 kB)\n",
      "Requirement already satisfied: matplotlib>=3.3.0 in /usr/local/lib/python3.10/dist-packages (from ultralytics==8.0.196) (3.8.0)\n",
      "Requirement already satisfied: numpy>=1.22.2 in /usr/local/lib/python3.10/dist-packages (from ultralytics==8.0.196) (1.26.4)\n",
      "Requirement already satisfied: opencv-python>=4.6.0 in /usr/local/lib/python3.10/dist-packages (from ultralytics==8.0.196) (4.10.0.84)\n",
      "Requirement already satisfied: pillow>=7.1.2 in /usr/local/lib/python3.10/dist-packages (from ultralytics==8.0.196) (11.0.0)\n",
      "Requirement already satisfied: pyyaml>=5.3.1 in /usr/local/lib/python3.10/dist-packages (from ultralytics==8.0.196) (6.0.2)\n",
      "Requirement already satisfied: requests>=2.23.0 in /usr/local/lib/python3.10/dist-packages (from ultralytics==8.0.196) (2.32.3)\n",
      "Requirement already satisfied: scipy>=1.4.1 in /usr/local/lib/python3.10/dist-packages (from ultralytics==8.0.196) (1.13.1)\n",
      "Requirement already satisfied: torch>=1.8.0 in /usr/local/lib/python3.10/dist-packages (from ultralytics==8.0.196) (2.5.1+cu121)\n",
      "Requirement already satisfied: torchvision>=0.9.0 in /usr/local/lib/python3.10/dist-packages (from ultralytics==8.0.196) (0.20.1+cu121)\n",
      "Requirement already satisfied: tqdm>=4.64.0 in /usr/local/lib/python3.10/dist-packages (from ultralytics==8.0.196) (4.66.6)\n",
      "Requirement already satisfied: pandas>=1.1.4 in /usr/local/lib/python3.10/dist-packages (from ultralytics==8.0.196) (2.2.2)\n",
      "Requirement already satisfied: seaborn>=0.11.0 in /usr/local/lib/python3.10/dist-packages (from ultralytics==8.0.196) (0.13.2)\n",
      "Requirement already satisfied: psutil in /usr/local/lib/python3.10/dist-packages (from ultralytics==8.0.196) (5.9.5)\n",
      "Requirement already satisfied: py-cpuinfo in /usr/local/lib/python3.10/dist-packages (from ultralytics==8.0.196) (9.0.0)\n",
      "Collecting thop>=0.1.1 (from ultralytics==8.0.196)\n",
      "  Downloading thop-0.1.1.post2209072238-py3-none-any.whl.metadata (2.7 kB)\n",
      "Requirement already satisfied: contourpy>=1.0.1 in /usr/local/lib/python3.10/dist-packages (from matplotlib>=3.3.0->ultralytics==8.0.196) (1.3.1)\n",
      "Requirement already satisfied: cycler>=0.10 in /usr/local/lib/python3.10/dist-packages (from matplotlib>=3.3.0->ultralytics==8.0.196) (0.12.1)\n",
      "Requirement already satisfied: fonttools>=4.22.0 in /usr/local/lib/python3.10/dist-packages (from matplotlib>=3.3.0->ultralytics==8.0.196) (4.55.0)\n",
      "Requirement already satisfied: kiwisolver>=1.0.1 in /usr/local/lib/python3.10/dist-packages (from matplotlib>=3.3.0->ultralytics==8.0.196) (1.4.7)\n",
      "Requirement already satisfied: packaging>=20.0 in /usr/local/lib/python3.10/dist-packages (from matplotlib>=3.3.0->ultralytics==8.0.196) (24.2)\n",
      "Requirement already satisfied: pyparsing>=2.3.1 in /usr/local/lib/python3.10/dist-packages (from matplotlib>=3.3.0->ultralytics==8.0.196) (3.2.0)\n",
      "Requirement already satisfied: python-dateutil>=2.7 in /usr/local/lib/python3.10/dist-packages (from matplotlib>=3.3.0->ultralytics==8.0.196) (2.8.2)\n",
      "Requirement already satisfied: pytz>=2020.1 in /usr/local/lib/python3.10/dist-packages (from pandas>=1.1.4->ultralytics==8.0.196) (2024.2)\n",
      "Requirement already satisfied: tzdata>=2022.7 in /usr/local/lib/python3.10/dist-packages (from pandas>=1.1.4->ultralytics==8.0.196) (2024.2)\n",
      "Requirement already satisfied: charset-normalizer<4,>=2 in /usr/local/lib/python3.10/dist-packages (from requests>=2.23.0->ultralytics==8.0.196) (3.4.0)\n",
      "Requirement already satisfied: idna<4,>=2.5 in /usr/local/lib/python3.10/dist-packages (from requests>=2.23.0->ultralytics==8.0.196) (3.10)\n",
      "Requirement already satisfied: urllib3<3,>=1.21.1 in /usr/local/lib/python3.10/dist-packages (from requests>=2.23.0->ultralytics==8.0.196) (2.2.3)\n",
      "Requirement already satisfied: certifi>=2017.4.17 in /usr/local/lib/python3.10/dist-packages (from requests>=2.23.0->ultralytics==8.0.196) (2024.8.30)\n",
      "Requirement already satisfied: filelock in /usr/local/lib/python3.10/dist-packages (from torch>=1.8.0->ultralytics==8.0.196) (3.16.1)\n",
      "Requirement already satisfied: typing-extensions>=4.8.0 in /usr/local/lib/python3.10/dist-packages (from torch>=1.8.0->ultralytics==8.0.196) (4.12.2)\n",
      "Requirement already satisfied: networkx in /usr/local/lib/python3.10/dist-packages (from torch>=1.8.0->ultralytics==8.0.196) (3.4.2)\n",
      "Requirement already satisfied: jinja2 in /usr/local/lib/python3.10/dist-packages (from torch>=1.8.0->ultralytics==8.0.196) (3.1.4)\n",
      "Requirement already satisfied: fsspec in /usr/local/lib/python3.10/dist-packages (from torch>=1.8.0->ultralytics==8.0.196) (2024.10.0)\n",
      "Requirement already satisfied: sympy==1.13.1 in /usr/local/lib/python3.10/dist-packages (from torch>=1.8.0->ultralytics==8.0.196) (1.13.1)\n",
      "Requirement already satisfied: mpmath<1.4,>=1.1.0 in /usr/local/lib/python3.10/dist-packages (from sympy==1.13.1->torch>=1.8.0->ultralytics==8.0.196) (1.3.0)\n",
      "Requirement already satisfied: six>=1.5 in /usr/local/lib/python3.10/dist-packages (from python-dateutil>=2.7->matplotlib>=3.3.0->ultralytics==8.0.196) (1.16.0)\n",
      "Requirement already satisfied: MarkupSafe>=2.0 in /usr/local/lib/python3.10/dist-packages (from jinja2->torch>=1.8.0->ultralytics==8.0.196) (3.0.2)\n",
      "Downloading ultralytics-8.0.196-py3-none-any.whl (631 kB)\n",
      "\u001b[2K   \u001b[90m━━━━━━━━━━━━━━━━━━━━━━━━━━━━━━━━━━━━━━━━\u001b[0m \u001b[32m631.1/631.1 kB\u001b[0m \u001b[31m11.0 MB/s\u001b[0m eta \u001b[36m0:00:00\u001b[0m\n",
      "\u001b[?25hDownloading thop-0.1.1.post2209072238-py3-none-any.whl (15 kB)\n",
      "Installing collected packages: thop, ultralytics\n",
      "Successfully installed thop-0.1.1.post2209072238 ultralytics-8.0.196\n"
     ]
    }
   ],
   "source": [
    "!pip install ultralytics==8.0.196"
   ]
  },
  {
   "cell_type": "code",
   "execution_count": 2,
   "metadata": {
    "colab": {
     "base_uri": "https://localhost:8080/"
    },
    "executionInfo": {
     "elapsed": 3992,
     "status": "ok",
     "timestamp": 1732207949163,
     "user": {
      "displayName": "Jack Gerry",
      "userId": "13812958749877844851"
     },
     "user_tz": 0
    },
    "id": "lcNOWSAWbAYy",
    "outputId": "a43b8206-dc14-4c33-9df2-2ab169d641df"
   },
   "outputs": [
    {
     "name": "stdout",
     "output_type": "stream",
     "text": [
      "Collecting roboflow\n",
      "  Downloading roboflow-1.1.49-py3-none-any.whl.metadata (9.7 kB)\n",
      "Requirement already satisfied: certifi in /usr/local/lib/python3.10/dist-packages (from roboflow) (2024.8.30)\n",
      "Collecting idna==3.7 (from roboflow)\n",
      "  Downloading idna-3.7-py3-none-any.whl.metadata (9.9 kB)\n",
      "Requirement already satisfied: cycler in /usr/local/lib/python3.10/dist-packages (from roboflow) (0.12.1)\n",
      "Requirement already satisfied: kiwisolver>=1.3.1 in /usr/local/lib/python3.10/dist-packages (from roboflow) (1.4.7)\n",
      "Requirement already satisfied: matplotlib in /usr/local/lib/python3.10/dist-packages (from roboflow) (3.8.0)\n",
      "Requirement already satisfied: numpy>=1.18.5 in /usr/local/lib/python3.10/dist-packages (from roboflow) (1.26.4)\n",
      "Requirement already satisfied: opencv-python-headless==4.10.0.84 in /usr/local/lib/python3.10/dist-packages (from roboflow) (4.10.0.84)\n",
      "Requirement already satisfied: Pillow>=7.1.2 in /usr/local/lib/python3.10/dist-packages (from roboflow) (11.0.0)\n",
      "Requirement already satisfied: python-dateutil in /usr/local/lib/python3.10/dist-packages (from roboflow) (2.8.2)\n",
      "Collecting python-dotenv (from roboflow)\n",
      "  Downloading python_dotenv-1.0.1-py3-none-any.whl.metadata (23 kB)\n",
      "Requirement already satisfied: requests in /usr/local/lib/python3.10/dist-packages (from roboflow) (2.32.3)\n",
      "Requirement already satisfied: six in /usr/local/lib/python3.10/dist-packages (from roboflow) (1.16.0)\n",
      "Requirement already satisfied: urllib3>=1.26.6 in /usr/local/lib/python3.10/dist-packages (from roboflow) (2.2.3)\n",
      "Requirement already satisfied: tqdm>=4.41.0 in /usr/local/lib/python3.10/dist-packages (from roboflow) (4.66.6)\n",
      "Requirement already satisfied: PyYAML>=5.3.1 in /usr/local/lib/python3.10/dist-packages (from roboflow) (6.0.2)\n",
      "Requirement already satisfied: requests-toolbelt in /usr/local/lib/python3.10/dist-packages (from roboflow) (1.0.0)\n",
      "Collecting filetype (from roboflow)\n",
      "  Downloading filetype-1.2.0-py2.py3-none-any.whl.metadata (6.5 kB)\n",
      "Requirement already satisfied: contourpy>=1.0.1 in /usr/local/lib/python3.10/dist-packages (from matplotlib->roboflow) (1.3.1)\n",
      "Requirement already satisfied: fonttools>=4.22.0 in /usr/local/lib/python3.10/dist-packages (from matplotlib->roboflow) (4.55.0)\n",
      "Requirement already satisfied: packaging>=20.0 in /usr/local/lib/python3.10/dist-packages (from matplotlib->roboflow) (24.2)\n",
      "Requirement already satisfied: pyparsing>=2.3.1 in /usr/local/lib/python3.10/dist-packages (from matplotlib->roboflow) (3.2.0)\n",
      "Requirement already satisfied: charset-normalizer<4,>=2 in /usr/local/lib/python3.10/dist-packages (from requests->roboflow) (3.4.0)\n",
      "Downloading roboflow-1.1.49-py3-none-any.whl (80 kB)\n",
      "\u001b[2K   \u001b[90m━━━━━━━━━━━━━━━━━━━━━━━━━━━━━━━━━━━━━━━━\u001b[0m \u001b[32m80.9/80.9 kB\u001b[0m \u001b[31m8.0 MB/s\u001b[0m eta \u001b[36m0:00:00\u001b[0m\n",
      "\u001b[?25hDownloading idna-3.7-py3-none-any.whl (66 kB)\n",
      "\u001b[2K   \u001b[90m━━━━━━━━━━━━━━━━━━━━━━━━━━━━━━━━━━━━━━━━\u001b[0m \u001b[32m66.8/66.8 kB\u001b[0m \u001b[31m6.2 MB/s\u001b[0m eta \u001b[36m0:00:00\u001b[0m\n",
      "\u001b[?25hDownloading filetype-1.2.0-py2.py3-none-any.whl (19 kB)\n",
      "Downloading python_dotenv-1.0.1-py3-none-any.whl (19 kB)\n",
      "Installing collected packages: filetype, python-dotenv, idna, roboflow\n",
      "  Attempting uninstall: idna\n",
      "    Found existing installation: idna 3.10\n",
      "    Uninstalling idna-3.10:\n",
      "      Successfully uninstalled idna-3.10\n",
      "Successfully installed filetype-1.2.0 idna-3.7 python-dotenv-1.0.1 roboflow-1.1.49\n"
     ]
    }
   ],
   "source": [
    "!pip install roboflow"
   ]
  },
  {
   "cell_type": "code",
   "execution_count": 3,
   "metadata": {
    "colab": {
     "base_uri": "https://localhost:8080/"
    },
    "executionInfo": {
     "elapsed": 21002,
     "status": "ok",
     "timestamp": 1732207973088,
     "user": {
      "displayName": "Jack Gerry",
      "userId": "13812958749877844851"
     },
     "user_tz": 0
    },
    "id": "g4zpsGzpWtOh",
    "outputId": "1bd42b65-40be-468f-8421-9344b759ae62"
   },
   "outputs": [
    {
     "name": "stderr",
     "output_type": "stream",
     "text": [
      "Ultralytics YOLOv8.0.196 🚀 Python-3.10.12 torch-2.5.1+cu121 CUDA:0 (Tesla T4, 15102MiB)\n",
      "Setup complete ✅ (2 CPUs, 12.7 GB RAM, 32.5/112.6 GB disk)\n"
     ]
    }
   ],
   "source": [
    "import ultralytics\n",
    "from ultralytics import YOLO\n",
    "ultralytics.checks()"
   ]
  },
  {
   "cell_type": "code",
   "execution_count": 4,
   "metadata": {
    "colab": {
     "base_uri": "https://localhost:8080/"
    },
    "executionInfo": {
     "elapsed": 14542,
     "status": "ok",
     "timestamp": 1732208241673,
     "user": {
      "displayName": "Jack Gerry",
      "userId": "13812958749877844851"
     },
     "user_tz": 0
    },
    "id": "-1ipd6U9XOj6",
    "outputId": "1ac7110b-9c67-440e-fd0e-fdcfb0b2d883"
   },
   "outputs": [
    {
     "name": "stdout",
     "output_type": "stream",
     "text": [
      "loading Roboflow workspace...\n",
      "loading Roboflow project...\n"
     ]
    },
    {
     "name": "stderr",
     "output_type": "stream",
     "text": [
      "Downloading Dataset Version Zip in Football-Players-6 to yolov8:: 100%|██████████| 113893/113893 [00:07<00:00, 14486.15it/s]"
     ]
    },
    {
     "name": "stdout",
     "output_type": "stream",
     "text": [
      "\n"
     ]
    },
    {
     "name": "stderr",
     "output_type": "stream",
     "text": [
      "\n",
      "Extracting Dataset Version Zip to Football-Players-6 in yolov8:: 100%|██████████| 3028/3028 [00:01<00:00, 2426.06it/s]\n"
     ]
    }
   ],
   "source": [
    "from roboflow import Roboflow\n",
    "rf = Roboflow(api_key=\"oxh0PmyBG9tLQTZYozrm\")\n",
    "project = rf.workspace(\"workspace1-8owu3\").project(\"football-players-yjzti\")\n",
    "version = project.version(6)\n",
    "dataset = version.download(\"yolov8\")"
   ]
  },
  {
   "cell_type": "code",
   "execution_count": null,
   "metadata": {
    "colab": {
     "base_uri": "https://localhost:8080/"
    },
    "executionInfo": {
     "elapsed": 1424,
     "status": "ok",
     "timestamp": 1732208481814,
     "user": {
      "displayName": "Jack Gerry",
      "userId": "13812958749877844851"
     },
     "user_tz": 0
    },
    "id": "PuQX6931bGS6",
    "outputId": "e0992eec-0e18-4ace-c04f-6b0956912b42"
   },
   "outputs": [
    {
     "name": "stderr",
     "output_type": "stream",
     "text": [
      "\n",
      "                   from  n    params  module                                       arguments                     \n",
      "  0                  -1  1       464  ultralytics.nn.modules.conv.Conv             [3, 16, 3, 2]                 \n",
      "  1                  -1  1      4672  ultralytics.nn.modules.conv.Conv             [16, 32, 3, 2]                \n",
      "  2                  -1  1      7360  ultralytics.nn.modules.block.C2f             [32, 32, 1, True]             \n",
      "  3                  -1  1     18560  ultralytics.nn.modules.conv.Conv             [32, 64, 3, 2]                \n",
      "  4                  -1  2     49664  ultralytics.nn.modules.block.C2f             [64, 64, 2, True]             \n",
      "  5                  -1  1     73984  ultralytics.nn.modules.conv.Conv             [64, 128, 3, 2]               \n",
      "  6                  -1  2    197632  ultralytics.nn.modules.block.C2f             [128, 128, 2, True]           \n",
      "  7                  -1  1    295424  ultralytics.nn.modules.conv.Conv             [128, 256, 3, 2]              \n",
      "  8                  -1  1    460288  ultralytics.nn.modules.block.C2f             [256, 256, 1, True]           \n",
      "  9                  -1  1    164608  ultralytics.nn.modules.block.SPPF            [256, 256, 5]                 \n",
      " 10                  -1  1         0  torch.nn.modules.upsampling.Upsample         [None, 2, 'nearest']          \n",
      " 11             [-1, 6]  1         0  ultralytics.nn.modules.conv.Concat           [1]                           \n",
      " 12                  -1  1    148224  ultralytics.nn.modules.block.C2f             [384, 128, 1]                 \n",
      " 13                  -1  1         0  torch.nn.modules.upsampling.Upsample         [None, 2, 'nearest']          \n",
      " 14             [-1, 4]  1         0  ultralytics.nn.modules.conv.Concat           [1]                           \n",
      " 15                  -1  1     37248  ultralytics.nn.modules.block.C2f             [192, 64, 1]                  \n",
      " 16                  -1  1     36992  ultralytics.nn.modules.conv.Conv             [64, 64, 3, 2]                \n",
      " 17            [-1, 12]  1         0  ultralytics.nn.modules.conv.Concat           [1]                           \n",
      " 18                  -1  1    123648  ultralytics.nn.modules.block.C2f             [192, 128, 1]                 \n",
      " 19                  -1  1    147712  ultralytics.nn.modules.conv.Conv             [128, 128, 3, 2]              \n",
      " 20             [-1, 9]  1         0  ultralytics.nn.modules.conv.Concat           [1]                           \n",
      " 21                  -1  1    493056  ultralytics.nn.modules.block.C2f             [384, 256, 1]                 \n",
      " 22        [15, 18, 21]  1   1150432  ultralytics.nn.modules.head.Segment          [80, 32, 64, [64, 128, 256]]  \n",
      "YOLOv8n-seg summary: 261 layers, 3409968 parameters, 3409952 gradients, 12.8 GFLOPs\n",
      "\n",
      "You are using `torch.load` with `weights_only=False` (the current default value), which uses the default pickle module implicitly. It is possible to construct malicious pickle data which will execute arbitrary code during unpickling (See https://github.com/pytorch/pytorch/blob/main/SECURITY.md#untrusted-models for more details). In a future release, the default value for `weights_only` will be flipped to `True`. This limits the functions that could be executed during unpickling. Arbitrary objects will no longer be allowed to be loaded via this mode unless they are explicitly allowlisted by the user via `torch.serialization.add_safe_globals`. We recommend you start setting `weights_only=True` for any use case where you don't have full control of the loaded file. Please open an issue on GitHub for any issues related to this experimental feature.\n",
      "Transferred 381/417 items from pretrained weights\n"
     ]
    }
   ],
   "source": [
    "# Load the pretrained YOLOv8 model (recommended)\n",
    "model = YOLO('yolov8n-seg.pt')\n",
    "\n",
    "# load only the YOLO architecture\n",
    "model = YOLO('yolov8n-seg.yaml')"
   ]
  },
  {
   "cell_type": "code",
   "execution_count": null,
   "metadata": {
    "colab": {
     "base_uri": "https://localhost:8080/"
    },
    "id": "eVJhb1cBcidb",
    "outputId": "5b26a1ba-e422-4f5a-a98a-4d166d403ac2"
   },
   "outputs": [
    {
     "name": "stderr",
     "output_type": "stream",
     "text": [
      "New https://pypi.org/project/ultralytics/8.3.35 available 😃 Update with 'pip install -U ultralytics'\n",
      "Ultralytics YOLOv8.0.196 🚀 Python-3.10.12 torch-2.5.1+cu121 CUDA:0 (Tesla T4, 15102MiB)\n",
      "\u001b[34m\u001b[1mengine/trainer: \u001b[0mtask=segment, mode=train, model=yolov8n-seg.yaml, data=/content/Football-Players-6/data.yaml, epochs=100, patience=50, batch=16, imgsz=640, save=True, save_period=-1, cache=False, device=None, workers=8, project=None, name=None, exist_ok=False, pretrained=True, optimizer=auto, verbose=True, seed=0, deterministic=True, single_cls=False, rect=False, cos_lr=False, close_mosaic=10, resume=False, amp=True, fraction=1.0, profile=False, freeze=None, overlap_mask=True, mask_ratio=4, dropout=0.0, val=True, split=val, save_json=False, save_hybrid=False, conf=None, iou=0.7, max_det=300, half=False, dnn=False, plots=True, source=None, show=False, save_txt=False, save_conf=False, save_crop=False, show_labels=True, show_conf=True, vid_stride=1, stream_buffer=False, line_width=None, visualize=False, augment=False, agnostic_nms=False, classes=None, retina_masks=False, boxes=True, format=torchscript, keras=False, optimize=False, int8=False, dynamic=False, simplify=False, opset=None, workspace=4, nms=False, lr0=0.01, lrf=0.01, momentum=0.937, weight_decay=0.0005, warmup_epochs=3.0, warmup_momentum=0.8, warmup_bias_lr=0.1, box=7.5, cls=0.5, dfl=1.5, pose=12.0, kobj=1.0, label_smoothing=0.0, nbs=64, hsv_h=0.015, hsv_s=0.7, hsv_v=0.4, degrees=0.0, translate=0.1, scale=0.5, shear=0.0, perspective=0.0, flipud=0.0, fliplr=0.5, mosaic=1.0, mixup=0.0, copy_paste=0.0, cfg=None, tracker=botsort.yaml, save_dir=runs/segment/train\n",
      "Downloading https://ultralytics.com/assets/Arial.ttf to '/root/.config/Ultralytics/Arial.ttf'...\n",
      "100%|██████████| 755k/755k [00:00<00:00, 83.7MB/s]\n",
      "Overriding model.yaml nc=80 with nc=4\n",
      "\n",
      "                   from  n    params  module                                       arguments                     \n",
      "  0                  -1  1       464  ultralytics.nn.modules.conv.Conv             [3, 16, 3, 2]                 \n",
      "  1                  -1  1      4672  ultralytics.nn.modules.conv.Conv             [16, 32, 3, 2]                \n",
      "  2                  -1  1      7360  ultralytics.nn.modules.block.C2f             [32, 32, 1, True]             \n",
      "  3                  -1  1     18560  ultralytics.nn.modules.conv.Conv             [32, 64, 3, 2]                \n",
      "  4                  -1  2     49664  ultralytics.nn.modules.block.C2f             [64, 64, 2, True]             \n",
      "  5                  -1  1     73984  ultralytics.nn.modules.conv.Conv             [64, 128, 3, 2]               \n",
      "  6                  -1  2    197632  ultralytics.nn.modules.block.C2f             [128, 128, 2, True]           \n",
      "  7                  -1  1    295424  ultralytics.nn.modules.conv.Conv             [128, 256, 3, 2]              \n",
      "  8                  -1  1    460288  ultralytics.nn.modules.block.C2f             [256, 256, 1, True]           \n",
      "  9                  -1  1    164608  ultralytics.nn.modules.block.SPPF            [256, 256, 5]                 \n",
      " 10                  -1  1         0  torch.nn.modules.upsampling.Upsample         [None, 2, 'nearest']          \n",
      " 11             [-1, 6]  1         0  ultralytics.nn.modules.conv.Concat           [1]                           \n",
      " 12                  -1  1    148224  ultralytics.nn.modules.block.C2f             [384, 128, 1]                 \n",
      " 13                  -1  1         0  torch.nn.modules.upsampling.Upsample         [None, 2, 'nearest']          \n",
      " 14             [-1, 4]  1         0  ultralytics.nn.modules.conv.Concat           [1]                           \n",
      " 15                  -1  1     37248  ultralytics.nn.modules.block.C2f             [192, 64, 1]                  \n",
      " 16                  -1  1     36992  ultralytics.nn.modules.conv.Conv             [64, 64, 3, 2]                \n",
      " 17            [-1, 12]  1         0  ultralytics.nn.modules.conv.Concat           [1]                           \n",
      " 18                  -1  1    123648  ultralytics.nn.modules.block.C2f             [192, 128, 1]                 \n",
      " 19                  -1  1    147712  ultralytics.nn.modules.conv.Conv             [128, 128, 3, 2]              \n",
      " 20             [-1, 9]  1         0  ultralytics.nn.modules.conv.Concat           [1]                           \n",
      " 21                  -1  1    493056  ultralytics.nn.modules.block.C2f             [384, 256, 1]                 \n",
      " 22        [15, 18, 21]  1   1004860  ultralytics.nn.modules.head.Segment          [4, 32, 64, [64, 128, 256]]   \n",
      "YOLOv8n-seg summary: 261 layers, 3264396 parameters, 3264380 gradients, 12.1 GFLOPs\n",
      "\n",
      "Transferred 381/417 items from pretrained weights\n",
      "\u001b[34m\u001b[1mTensorBoard: \u001b[0mStart with 'tensorboard --logdir runs/segment/train', view at http://localhost:6006/\n",
      "Freezing layer 'model.22.dfl.conv.weight'\n",
      "\u001b[34m\u001b[1mAMP: \u001b[0mrunning Automatic Mixed Precision (AMP) checks with YOLOv8n...\n",
      "Downloading https://github.com/ultralytics/assets/releases/download/v0.0.0/yolov8n.pt to 'yolov8n.pt'...\n",
      "100%|██████████| 6.23M/6.23M [00:00<00:00, 325MB/s]\n",
      "You are using `torch.load` with `weights_only=False` (the current default value), which uses the default pickle module implicitly. It is possible to construct malicious pickle data which will execute arbitrary code during unpickling (See https://github.com/pytorch/pytorch/blob/main/SECURITY.md#untrusted-models for more details). In a future release, the default value for `weights_only` will be flipped to `True`. This limits the functions that could be executed during unpickling. Arbitrary objects will no longer be allowed to be loaded via this mode unless they are explicitly allowlisted by the user via `torch.serialization.add_safe_globals`. We recommend you start setting `weights_only=True` for any use case where you don't have full control of the loaded file. Please open an issue on GitHub for any issues related to this experimental feature.\n",
      "WARNING ⚠️ NMS time limit 0.550s exceeded\n",
      "`torch.cuda.amp.autocast(args...)` is deprecated. Please use `torch.amp.autocast('cuda', args...)` instead.\n",
      "\u001b[34m\u001b[1mAMP: \u001b[0mchecks passed ✅\n",
      "`torch.cuda.amp.GradScaler(args...)` is deprecated. Please use `torch.amp.GradScaler('cuda', args...)` instead.\n",
      "\u001b[34m\u001b[1mtrain: \u001b[0mScanning /content/Football-Players-6/train/labels... 1282 images, 0 backgrounds, 0 corrupt: 100%|██████████| 1282/1282 [00:02<00:00, 492.28it/s]\n",
      "\u001b[34m\u001b[1mtrain: \u001b[0mWARNING ⚠️ /content/Football-Players-6/train/images/209_jpg.rf.370bc930f379cb346134a3d6b2f747d4.jpg: 3 duplicate labels removed\n",
      "\u001b[34m\u001b[1mtrain: \u001b[0mWARNING ⚠️ /content/Football-Players-6/train/images/209_jpg.rf.57e7495c295a4323cb89fa65254a2529.jpg: 3 duplicate labels removed\n",
      "\u001b[34m\u001b[1mtrain: \u001b[0mWARNING ⚠️ /content/Football-Players-6/train/images/209_jpg.rf.72e12b92086820d1ed935c02a715620e.jpg: 1 duplicate labels removed\n",
      "\u001b[34m\u001b[1mtrain: \u001b[0mNew cache created: /content/Football-Players-6/train/labels.cache\n",
      "A new version of Albumentations is available: 1.4.21 (you have 1.4.20). Upgrade using: pip install -U albumentations. To disable automatic update checks, set the environment variable NO_ALBUMENTATIONS_UPDATE to 1.\n",
      "Got processor for bboxes, but no transform to process it.\n",
      "\u001b[34m\u001b[1malbumentations: \u001b[0mBlur(p=0.01, blur_limit=(3, 7)), MedianBlur(p=0.01, blur_limit=(3, 7)), ToGray(p=0.01, num_output_channels=3, method='weighted_average'), CLAHE(p=0.01, clip_limit=(1.0, 4.0), tile_grid_size=(8, 8))\n",
      "\u001b[34m\u001b[1mval: \u001b[0mScanning /content/Football-Players-6/valid/labels... 141 images, 0 backgrounds, 0 corrupt: 100%|██████████| 141/141 [00:01<00:00, 105.79it/s]\n",
      "\u001b[34m\u001b[1mval: \u001b[0mWARNING ⚠️ /content/Football-Players-6/valid/images/209_jpg.rf.80ceb988edcfc4a781312f390dd798d1.jpg: 3 duplicate labels removed\n",
      "\u001b[34m\u001b[1mval: \u001b[0mNew cache created: /content/Football-Players-6/valid/labels.cache\n",
      "Plotting labels to runs/segment/train/labels.jpg... \n",
      "\u001b[34m\u001b[1moptimizer:\u001b[0m 'optimizer=auto' found, ignoring 'lr0=0.01' and 'momentum=0.937' and determining best 'optimizer', 'lr0' and 'momentum' automatically... \n",
      "\u001b[34m\u001b[1moptimizer:\u001b[0m AdamW(lr=0.00125, momentum=0.9) with parameter groups 66 weight(decay=0.0), 77 weight(decay=0.0005), 76 bias(decay=0.0)\n",
      "Image sizes 640 train, 640 val\n",
      "Using 2 dataloader workers\n",
      "Logging results to \u001b[1mruns/segment/train\u001b[0m\n",
      "Starting training for 100 epochs...\n",
      "\n",
      "      Epoch    GPU_mem   box_loss   seg_loss   cls_loss   dfl_loss  Instances       Size\n",
      "      1/100      3.79G     0.8214      1.278      1.626     0.8822         32        640: 100%|██████████| 81/81 [01:41<00:00,  1.25s/it]\n",
      "                 Class     Images  Instances      Box(P          R      mAP50  mAP50-95)     Mask(P          R      mAP50  mAP50-95): 100%|██████████| 5/5 [00:04<00:00,  1.01it/s]\n",
      "                   all        141       2037      0.995       0.46      0.483      0.391       0.99      0.453      0.472      0.308\n",
      "\n",
      "      Epoch    GPU_mem   box_loss   seg_loss   cls_loss   dfl_loss  Instances       Size\n",
      "      2/100       3.8G     0.8486      1.313     0.6605     0.8804         45        640: 100%|██████████| 81/81 [01:34<00:00,  1.16s/it]\n",
      "                 Class     Images  Instances      Box(P          R      mAP50  mAP50-95)     Mask(P          R      mAP50  mAP50-95): 100%|██████████| 5/5 [00:04<00:00,  1.09it/s]\n",
      "                   all        141       2037      0.987      0.475      0.486      0.395      0.981      0.469      0.477      0.317\n",
      "\n",
      "      Epoch    GPU_mem   box_loss   seg_loss   cls_loss   dfl_loss  Instances       Size\n",
      "      3/100      3.24G     0.8459      1.317     0.6226     0.8843         19        640: 100%|██████████| 81/81 [01:36<00:00,  1.19s/it]\n",
      "                 Class     Images  Instances      Box(P          R      mAP50  mAP50-95)     Mask(P          R      mAP50  mAP50-95): 100%|██████████| 5/5 [00:04<00:00,  1.06it/s]\n",
      "                   all        141       2037      0.789        0.5      0.565      0.438      0.655      0.486      0.528      0.349\n",
      "\n",
      "      Epoch    GPU_mem   box_loss   seg_loss   cls_loss   dfl_loss  Instances       Size\n",
      "      4/100      3.67G     0.8525      1.313     0.6002     0.8877         57        640: 100%|██████████| 81/81 [01:34<00:00,  1.17s/it]\n",
      "                 Class     Images  Instances      Box(P          R      mAP50  mAP50-95)     Mask(P          R      mAP50  mAP50-95): 100%|██████████| 5/5 [00:04<00:00,  1.08it/s]\n",
      "                   all        141       2037      0.756      0.604      0.621      0.454      0.651      0.582      0.584       0.36\n",
      "\n",
      "      Epoch    GPU_mem   box_loss   seg_loss   cls_loss   dfl_loss  Instances       Size\n",
      "      5/100      3.61G     0.8887      1.325     0.5877      0.886         57        640: 100%|██████████| 81/81 [01:36<00:00,  1.20s/it]\n",
      "                 Class     Images  Instances      Box(P          R      mAP50  mAP50-95)     Mask(P          R      mAP50  mAP50-95): 100%|██████████| 5/5 [00:04<00:00,  1.21it/s]\n",
      "                   all        141       2037      0.757      0.619      0.631      0.464      0.615      0.581       0.59      0.372\n",
      "\n",
      "      Epoch    GPU_mem   box_loss   seg_loss   cls_loss   dfl_loss  Instances       Size\n",
      "      6/100       3.7G     0.8674      1.323     0.5643     0.8838         29        640: 100%|██████████| 81/81 [01:35<00:00,  1.18s/it]\n",
      "                 Class     Images  Instances      Box(P          R      mAP50  mAP50-95)     Mask(P          R      mAP50  mAP50-95): 100%|██████████| 5/5 [00:03<00:00,  1.25it/s]\n",
      "                   all        141       2037      0.798      0.622      0.645      0.481      0.631       0.57      0.579      0.365\n",
      "\n",
      "      Epoch    GPU_mem   box_loss   seg_loss   cls_loss   dfl_loss  Instances       Size\n",
      "      7/100      3.96G     0.8457      1.313     0.5495     0.8841         25        640: 100%|██████████| 81/81 [01:36<00:00,  1.19s/it]\n",
      "                 Class     Images  Instances      Box(P          R      mAP50  mAP50-95)     Mask(P          R      mAP50  mAP50-95): 100%|██████████| 5/5 [00:06<00:00,  1.28s/it]\n",
      "                   all        141       2037      0.889      0.607       0.64      0.478      0.777      0.578      0.595      0.385\n",
      "\n",
      "      Epoch    GPU_mem   box_loss   seg_loss   cls_loss   dfl_loss  Instances       Size\n",
      "      8/100      3.66G     0.8225      1.293     0.5223     0.8771         65        640: 100%|██████████| 81/81 [01:31<00:00,  1.14s/it]\n",
      "                 Class     Images  Instances      Box(P          R      mAP50  mAP50-95)     Mask(P          R      mAP50  mAP50-95): 100%|██████████| 5/5 [00:06<00:00,  1.32s/it]\n",
      "                   all        141       2037      0.836      0.641      0.671      0.498      0.748      0.611      0.621      0.395\n",
      "\n",
      "      Epoch    GPU_mem   box_loss   seg_loss   cls_loss   dfl_loss  Instances       Size\n",
      "      9/100      3.85G     0.8485      1.302     0.5262     0.8821         28        640: 100%|██████████| 81/81 [01:31<00:00,  1.13s/it]\n",
      "                 Class     Images  Instances      Box(P          R      mAP50  mAP50-95)     Mask(P          R      mAP50  mAP50-95): 100%|██████████| 5/5 [00:05<00:00,  1.14s/it]\n",
      "                   all        141       2037      0.895      0.611      0.652      0.495        0.8      0.581      0.601      0.387\n",
      "\n",
      "      Epoch    GPU_mem   box_loss   seg_loss   cls_loss   dfl_loss  Instances       Size\n",
      "     10/100      3.74G     0.8327        1.3     0.5166     0.8756         35        640: 100%|██████████| 81/81 [01:36<00:00,  1.19s/it]\n",
      "                 Class     Images  Instances      Box(P          R      mAP50  mAP50-95)     Mask(P          R      mAP50  mAP50-95): 100%|██████████| 5/5 [00:04<00:00,  1.20it/s]\n",
      "                   all        141       2037      0.903      0.598      0.683      0.494      0.762      0.587      0.624      0.374\n",
      "\n",
      "      Epoch    GPU_mem   box_loss   seg_loss   cls_loss   dfl_loss  Instances       Size\n",
      "     11/100       3.9G     0.8076      1.267      0.504     0.8762         37        640: 100%|██████████| 81/81 [01:37<00:00,  1.20s/it]\n",
      "                 Class     Images  Instances      Box(P          R      mAP50  mAP50-95)     Mask(P          R      mAP50  mAP50-95): 100%|██████████| 5/5 [00:04<00:00,  1.07it/s]\n",
      "                   all        141       2037      0.898      0.624      0.681      0.501      0.794      0.592      0.627      0.406\n",
      "\n",
      "      Epoch    GPU_mem   box_loss   seg_loss   cls_loss   dfl_loss  Instances       Size\n",
      "     12/100      3.71G     0.8321        1.3     0.5089     0.8785         58        640: 100%|██████████| 81/81 [01:34<00:00,  1.16s/it]\n",
      "                 Class     Images  Instances      Box(P          R      mAP50  mAP50-95)     Mask(P          R      mAP50  mAP50-95): 100%|██████████| 5/5 [00:04<00:00,  1.22it/s]\n",
      "                   all        141       2037      0.878      0.624      0.674      0.484      0.753      0.585      0.611      0.369\n",
      "\n",
      "      Epoch    GPU_mem   box_loss   seg_loss   cls_loss   dfl_loss  Instances       Size\n",
      "     13/100      3.62G     0.8322      1.285     0.5037     0.8762         42        640: 100%|██████████| 81/81 [01:34<00:00,  1.16s/it]\n",
      "                 Class     Images  Instances      Box(P          R      mAP50  mAP50-95)     Mask(P          R      mAP50  mAP50-95): 100%|██████████| 5/5 [00:04<00:00,  1.13it/s]\n",
      "                   all        141       2037      0.966       0.63      0.681      0.506      0.855      0.606       0.63      0.405\n",
      "\n",
      "      Epoch    GPU_mem   box_loss   seg_loss   cls_loss   dfl_loss  Instances       Size\n",
      "     14/100      4.08G     0.8231      1.288     0.5011     0.8733         16        640: 100%|██████████| 81/81 [01:36<00:00,  1.19s/it]\n",
      "                 Class     Images  Instances      Box(P          R      mAP50  mAP50-95)     Mask(P          R      mAP50  mAP50-95): 100%|██████████| 5/5 [00:04<00:00,  1.06it/s]\n",
      "                   all        141       2037      0.922      0.628      0.669      0.501       0.76       0.59      0.619      0.378\n",
      "\n",
      "      Epoch    GPU_mem   box_loss   seg_loss   cls_loss   dfl_loss  Instances       Size\n",
      "     15/100      3.32G     0.8141      1.301     0.4977     0.8773         11        640: 100%|██████████| 81/81 [01:31<00:00,  1.14s/it]\n",
      "                 Class     Images  Instances      Box(P          R      mAP50  mAP50-95)     Mask(P          R      mAP50  mAP50-95): 100%|██████████| 5/5 [00:06<00:00,  1.23s/it]\n",
      "                   all        141       2037      0.887      0.621      0.672      0.492      0.691      0.658      0.633       0.39\n",
      "\n",
      "      Epoch    GPU_mem   box_loss   seg_loss   cls_loss   dfl_loss  Instances       Size\n",
      "     16/100      3.89G     0.8053      1.275     0.4835     0.8714         39        640: 100%|██████████| 81/81 [01:32<00:00,  1.14s/it]\n",
      "                 Class     Images  Instances      Box(P          R      mAP50  mAP50-95)     Mask(P          R      mAP50  mAP50-95): 100%|██████████| 5/5 [00:06<00:00,  1.22s/it]\n",
      "                   all        141       2037      0.901      0.632      0.699      0.506      0.768      0.592       0.65      0.389\n",
      "\n",
      "      Epoch    GPU_mem   box_loss   seg_loss   cls_loss   dfl_loss  Instances       Size\n",
      "     17/100      3.74G     0.8051      1.268     0.4813     0.8741         42        640: 100%|██████████| 81/81 [01:36<00:00,  1.19s/it]\n",
      "                 Class     Images  Instances      Box(P          R      mAP50  mAP50-95)     Mask(P          R      mAP50  mAP50-95): 100%|██████████| 5/5 [00:06<00:00,  1.37s/it]\n",
      "                   all        141       2037      0.874      0.654      0.708      0.517      0.734      0.598      0.618      0.401\n",
      "\n",
      "      Epoch    GPU_mem   box_loss   seg_loss   cls_loss   dfl_loss  Instances       Size\n",
      "     18/100      3.41G     0.8093      1.275     0.4795     0.8729         32        640: 100%|██████████| 81/81 [01:32<00:00,  1.14s/it]\n",
      "                 Class     Images  Instances      Box(P          R      mAP50  mAP50-95)     Mask(P          R      mAP50  mAP50-95): 100%|██████████| 5/5 [00:05<00:00,  1.11s/it]\n",
      "                   all        141       2037      0.839      0.651      0.687      0.496      0.734      0.604      0.632       0.38\n",
      "\n",
      "      Epoch    GPU_mem   box_loss   seg_loss   cls_loss   dfl_loss  Instances       Size\n",
      "     19/100      3.48G     0.8126      1.259      0.481     0.8708         12        640: 100%|██████████| 81/81 [01:32<00:00,  1.14s/it]\n",
      "                 Class     Images  Instances      Box(P          R      mAP50  mAP50-95)     Mask(P          R      mAP50  mAP50-95): 100%|██████████| 5/5 [00:04<00:00,  1.23it/s]\n",
      "                   all        141       2037      0.866      0.665      0.705      0.517      0.776       0.63      0.648        0.4\n",
      "\n",
      "      Epoch    GPU_mem   box_loss   seg_loss   cls_loss   dfl_loss  Instances       Size\n",
      "     20/100      3.23G     0.8029      1.288     0.4696     0.8738         24        640: 100%|██████████| 81/81 [01:36<00:00,  1.19s/it]\n",
      "                 Class     Images  Instances      Box(P          R      mAP50  mAP50-95)     Mask(P          R      mAP50  mAP50-95): 100%|██████████| 5/5 [00:04<00:00,  1.14it/s]\n",
      "                   all        141       2037      0.912      0.648      0.665      0.499      0.779      0.622      0.611        0.4\n",
      "\n",
      "      Epoch    GPU_mem   box_loss   seg_loss   cls_loss   dfl_loss  Instances       Size\n",
      "     21/100      3.75G     0.7816      1.247     0.4599     0.8673         22        640: 100%|██████████| 81/81 [01:33<00:00,  1.15s/it]\n",
      "                 Class     Images  Instances      Box(P          R      mAP50  mAP50-95)     Mask(P          R      mAP50  mAP50-95): 100%|██████████| 5/5 [00:04<00:00,  1.11it/s]\n",
      "                   all        141       2037      0.873      0.652      0.667      0.507      0.769      0.613      0.613      0.402\n",
      "\n",
      "      Epoch    GPU_mem   box_loss   seg_loss   cls_loss   dfl_loss  Instances       Size\n",
      "     22/100      3.34G     0.7895       1.27     0.4557     0.8654         54        640: 100%|██████████| 81/81 [01:32<00:00,  1.15s/it]\n",
      "                 Class     Images  Instances      Box(P          R      mAP50  mAP50-95)     Mask(P          R      mAP50  mAP50-95): 100%|██████████| 5/5 [00:04<00:00,  1.05it/s]\n",
      "                   all        141       2037      0.913      0.658      0.714      0.521      0.825        0.6      0.634      0.411\n",
      "\n",
      "      Epoch    GPU_mem   box_loss   seg_loss   cls_loss   dfl_loss  Instances       Size\n",
      "     23/100      3.54G     0.7797      1.251     0.4584     0.8676         65        640: 100%|██████████| 81/81 [01:31<00:00,  1.13s/it]\n",
      "                 Class     Images  Instances      Box(P          R      mAP50  mAP50-95)     Mask(P          R      mAP50  mAP50-95): 100%|██████████| 5/5 [00:06<00:00,  1.37s/it]\n",
      "                   all        141       2037      0.922      0.634      0.694      0.518      0.802      0.598      0.633      0.388\n",
      "\n",
      "      Epoch    GPU_mem   box_loss   seg_loss   cls_loss   dfl_loss  Instances       Size\n",
      "     24/100      3.64G     0.7765      1.264     0.4556     0.8713         23        640: 100%|██████████| 81/81 [01:38<00:00,  1.22s/it]\n",
      "                 Class     Images  Instances      Box(P          R      mAP50  mAP50-95)     Mask(P          R      mAP50  mAP50-95): 100%|██████████| 5/5 [00:06<00:00,  1.34s/it]\n",
      "                   all        141       2037      0.832       0.63      0.672      0.518      0.714      0.647      0.627       0.41\n",
      "\n",
      "      Epoch    GPU_mem   box_loss   seg_loss   cls_loss   dfl_loss  Instances       Size\n",
      "     25/100      3.52G     0.7848      1.264     0.4586     0.8688         30        640: 100%|██████████| 81/81 [01:40<00:00,  1.24s/it]\n",
      "                 Class     Images  Instances      Box(P          R      mAP50  mAP50-95)     Mask(P          R      mAP50  mAP50-95): 100%|██████████| 5/5 [00:04<00:00,  1.04it/s]\n",
      "                   all        141       2037      0.908      0.655      0.712      0.529      0.766      0.645      0.659      0.419\n",
      "\n",
      "      Epoch    GPU_mem   box_loss   seg_loss   cls_loss   dfl_loss  Instances       Size\n",
      "     26/100      3.78G      0.788      1.275      0.454     0.8682         23        640: 100%|██████████| 81/81 [01:41<00:00,  1.25s/it]\n",
      "                 Class     Images  Instances      Box(P          R      mAP50  mAP50-95)     Mask(P          R      mAP50  mAP50-95): 100%|██████████| 5/5 [00:04<00:00,  1.19it/s]\n",
      "                   all        141       2037      0.943      0.623      0.687      0.519      0.748      0.614      0.634      0.399\n",
      "\n",
      "      Epoch    GPU_mem   box_loss   seg_loss   cls_loss   dfl_loss  Instances       Size\n",
      "     27/100      3.73G     0.7761      1.249     0.4462     0.8655         56        640: 100%|██████████| 81/81 [01:38<00:00,  1.22s/it]\n",
      "                 Class     Images  Instances      Box(P          R      mAP50  mAP50-95)     Mask(P          R      mAP50  mAP50-95): 100%|██████████| 5/5 [00:03<00:00,  1.28it/s]\n",
      "                   all        141       2037      0.883      0.627      0.678      0.515      0.762      0.594      0.622      0.406\n",
      "\n",
      "      Epoch    GPU_mem   box_loss   seg_loss   cls_loss   dfl_loss  Instances       Size\n",
      "     28/100       3.6G      0.801      1.255     0.4551     0.8722         29        640: 100%|██████████| 81/81 [01:32<00:00,  1.15s/it]\n",
      "                 Class     Images  Instances      Box(P          R      mAP50  mAP50-95)     Mask(P          R      mAP50  mAP50-95): 100%|██████████| 5/5 [00:06<00:00,  1.26s/it]\n",
      "                   all        141       2037       0.83      0.657      0.683      0.512      0.749      0.648      0.632      0.389\n",
      "\n",
      "      Epoch    GPU_mem   box_loss   seg_loss   cls_loss   dfl_loss  Instances       Size\n",
      "     29/100      3.24G     0.7823      1.245     0.4469     0.8663         76        640: 100%|██████████| 81/81 [01:33<00:00,  1.15s/it]\n",
      "                 Class     Images  Instances      Box(P          R      mAP50  mAP50-95)     Mask(P          R      mAP50  mAP50-95): 100%|██████████| 5/5 [00:07<00:00,  1.43s/it]\n",
      "                   all        141       2037      0.842      0.654      0.683      0.523      0.723       0.64      0.633      0.407\n",
      "\n",
      "      Epoch    GPU_mem   box_loss   seg_loss   cls_loss   dfl_loss  Instances       Size\n",
      "     30/100       3.6G     0.7746      1.254     0.4471     0.8611         58        640: 100%|██████████| 81/81 [01:35<00:00,  1.18s/it]\n",
      "                 Class     Images  Instances      Box(P          R      mAP50  mAP50-95)     Mask(P          R      mAP50  mAP50-95): 100%|██████████| 5/5 [00:06<00:00,  1.39s/it]\n",
      "                   all        141       2037      0.906      0.664      0.696      0.517       0.81      0.623      0.634      0.403\n",
      "\n",
      "      Epoch    GPU_mem   box_loss   seg_loss   cls_loss   dfl_loss  Instances       Size\n",
      "     31/100       3.7G      0.785      1.242     0.4426     0.8694         32        640: 100%|██████████| 81/81 [01:31<00:00,  1.13s/it]\n",
      "                 Class     Images  Instances      Box(P          R      mAP50  mAP50-95)     Mask(P          R      mAP50  mAP50-95): 100%|██████████| 5/5 [00:05<00:00,  1.09s/it]\n",
      "                   all        141       2037      0.898      0.683      0.703      0.529      0.816      0.644      0.654      0.407\n",
      "\n",
      "      Epoch    GPU_mem   box_loss   seg_loss   cls_loss   dfl_loss  Instances       Size\n",
      "     32/100      3.67G     0.7727      1.262      0.442     0.8651         40        640: 100%|██████████| 81/81 [01:32<00:00,  1.15s/it]\n",
      "                 Class     Images  Instances      Box(P          R      mAP50  mAP50-95)     Mask(P          R      mAP50  mAP50-95): 100%|██████████| 5/5 [00:04<00:00,  1.09it/s]\n",
      "                   all        141       2037      0.916      0.665      0.728      0.533      0.759      0.642       0.66      0.423\n",
      "\n",
      "      Epoch    GPU_mem   box_loss   seg_loss   cls_loss   dfl_loss  Instances       Size\n",
      "     33/100      3.44G     0.7594      1.242     0.4323     0.8628         27        640: 100%|██████████| 81/81 [01:34<00:00,  1.17s/it]\n",
      "                 Class     Images  Instances      Box(P          R      mAP50  mAP50-95)     Mask(P          R      mAP50  mAP50-95): 100%|██████████| 5/5 [00:05<00:00,  1.10s/it]\n",
      "                   all        141       2037      0.891      0.651      0.686      0.517      0.821       0.63      0.645      0.414\n",
      "\n",
      "      Epoch    GPU_mem   box_loss   seg_loss   cls_loss   dfl_loss  Instances       Size\n",
      "     34/100      3.39G     0.7535      1.223     0.4336      0.862         30        640: 100%|██████████| 81/81 [01:33<00:00,  1.15s/it]\n",
      "                 Class     Images  Instances      Box(P          R      mAP50  mAP50-95)     Mask(P          R      mAP50  mAP50-95): 100%|██████████| 5/5 [00:04<00:00,  1.25it/s]\n",
      "                   all        141       2037      0.857      0.686      0.719      0.534      0.744      0.632      0.639      0.398\n",
      "\n",
      "      Epoch    GPU_mem   box_loss   seg_loss   cls_loss   dfl_loss  Instances       Size\n",
      "     35/100      3.87G     0.7628      1.234     0.4323     0.8611         93        640: 100%|██████████| 81/81 [01:33<00:00,  1.16s/it]\n",
      "                 Class     Images  Instances      Box(P          R      mAP50  mAP50-95)     Mask(P          R      mAP50  mAP50-95): 100%|██████████| 5/5 [00:04<00:00,  1.03it/s]\n",
      "                   all        141       2037       0.88      0.668       0.71      0.534      0.763      0.621       0.64      0.401\n",
      "\n",
      "      Epoch    GPU_mem   box_loss   seg_loss   cls_loss   dfl_loss  Instances       Size\n",
      "     36/100      3.56G       0.75      1.226     0.4282     0.8589         43        640: 100%|██████████| 81/81 [01:33<00:00,  1.15s/it]\n",
      "                 Class     Images  Instances      Box(P          R      mAP50  mAP50-95)     Mask(P          R      mAP50  mAP50-95): 100%|██████████| 5/5 [00:04<00:00,  1.21it/s]\n",
      "                   all        141       2037      0.877      0.675       0.72       0.54      0.736      0.611       0.61        0.4\n",
      "\n",
      "      Epoch    GPU_mem   box_loss   seg_loss   cls_loss   dfl_loss  Instances       Size\n",
      "     37/100      3.43G      0.752      1.216     0.4277     0.8612         49        640: 100%|██████████| 81/81 [01:34<00:00,  1.17s/it]\n",
      "                 Class     Images  Instances      Box(P          R      mAP50  mAP50-95)     Mask(P          R      mAP50  mAP50-95): 100%|██████████| 5/5 [00:05<00:00,  1.17s/it]\n",
      "                   all        141       2037      0.861       0.65      0.699      0.539      0.716      0.617      0.634       0.42\n",
      "\n",
      "      Epoch    GPU_mem   box_loss   seg_loss   cls_loss   dfl_loss  Instances       Size\n",
      "     38/100      3.42G     0.7381      1.219     0.4188     0.8573         21        640: 100%|██████████| 81/81 [01:31<00:00,  1.13s/it]\n",
      "                 Class     Images  Instances      Box(P          R      mAP50  mAP50-95)     Mask(P          R      mAP50  mAP50-95): 100%|██████████| 5/5 [00:06<00:00,  1.24s/it]\n",
      "                   all        141       2037      0.901      0.656      0.693      0.536      0.778      0.636      0.648      0.418\n",
      "\n",
      "      Epoch    GPU_mem   box_loss   seg_loss   cls_loss   dfl_loss  Instances       Size\n",
      "     39/100      3.32G     0.7516      1.214     0.4257     0.8625         13        640: 100%|██████████| 81/81 [01:32<00:00,  1.14s/it]\n",
      "                 Class     Images  Instances      Box(P          R      mAP50  mAP50-95)     Mask(P          R      mAP50  mAP50-95): 100%|██████████| 5/5 [00:04<00:00,  1.13it/s]\n",
      "                   all        141       2037      0.872      0.668      0.712      0.531      0.746      0.615      0.615       0.39\n",
      "\n",
      "      Epoch    GPU_mem   box_loss   seg_loss   cls_loss   dfl_loss  Instances       Size\n",
      "     40/100      3.56G     0.7686      1.233     0.4314      0.864         77        640: 100%|██████████| 81/81 [01:35<00:00,  1.19s/it]\n",
      "                 Class     Images  Instances      Box(P          R      mAP50  mAP50-95)     Mask(P          R      mAP50  mAP50-95): 100%|██████████| 5/5 [00:04<00:00,  1.24it/s]\n",
      "                   all        141       2037      0.925      0.663      0.721      0.535      0.801      0.646      0.672      0.432\n",
      "\n",
      "      Epoch    GPU_mem   box_loss   seg_loss   cls_loss   dfl_loss  Instances       Size\n",
      "     41/100      3.18G     0.7522      1.233     0.4244     0.8568         50        640: 100%|██████████| 81/81 [01:34<00:00,  1.17s/it]\n",
      "                 Class     Images  Instances      Box(P          R      mAP50  mAP50-95)     Mask(P          R      mAP50  mAP50-95): 100%|██████████| 5/5 [00:03<00:00,  1.28it/s]\n",
      "                   all        141       2037      0.886       0.68       0.73      0.545      0.798      0.609      0.643      0.406\n",
      "\n",
      "      Epoch    GPU_mem   box_loss   seg_loss   cls_loss   dfl_loss  Instances       Size\n",
      "     42/100      3.38G     0.7414      1.211     0.4239       0.86         23        640: 100%|██████████| 81/81 [01:33<00:00,  1.16s/it]\n",
      "                 Class     Images  Instances      Box(P          R      mAP50  mAP50-95)     Mask(P          R      mAP50  mAP50-95): 100%|██████████| 5/5 [00:05<00:00,  1.15s/it]\n",
      "                   all        141       2037      0.942      0.662      0.722      0.544      0.788      0.607      0.646      0.415\n",
      "\n",
      "      Epoch    GPU_mem   box_loss   seg_loss   cls_loss   dfl_loss  Instances       Size\n",
      "     43/100      3.62G     0.7354      1.239     0.4175     0.8588         52        640: 100%|██████████| 81/81 [01:41<00:00,  1.25s/it]\n",
      "                 Class     Images  Instances      Box(P          R      mAP50  mAP50-95)     Mask(P          R      mAP50  mAP50-95): 100%|██████████| 5/5 [00:04<00:00,  1.07it/s]\n",
      "                   all        141       2037      0.881      0.675      0.719       0.54      0.759      0.618      0.631      0.422\n",
      "\n",
      "      Epoch    GPU_mem   box_loss   seg_loss   cls_loss   dfl_loss  Instances       Size\n",
      "     44/100      3.48G     0.7497      1.227     0.4246     0.8612         37        640: 100%|██████████| 81/81 [01:38<00:00,  1.22s/it]\n",
      "                 Class     Images  Instances      Box(P          R      mAP50  mAP50-95)     Mask(P          R      mAP50  mAP50-95): 100%|██████████| 5/5 [00:04<00:00,  1.09it/s]\n",
      "                   all        141       2037      0.931      0.677      0.729       0.55      0.827      0.642      0.667      0.423\n",
      "\n",
      "      Epoch    GPU_mem   box_loss   seg_loss   cls_loss   dfl_loss  Instances       Size\n",
      "     45/100      3.43G     0.7388      1.214     0.4141     0.8568         69        640: 100%|██████████| 81/81 [01:39<00:00,  1.23s/it]\n",
      "                 Class     Images  Instances      Box(P          R      mAP50  mAP50-95)     Mask(P          R      mAP50  mAP50-95): 100%|██████████| 5/5 [00:04<00:00,  1.09it/s]\n",
      "                   all        141       2037      0.863      0.687      0.726      0.552        0.8      0.632      0.666      0.427\n",
      "\n",
      "      Epoch    GPU_mem   box_loss   seg_loss   cls_loss   dfl_loss  Instances       Size\n",
      "     46/100      4.01G     0.7443      1.225     0.4135     0.8566         86        640: 100%|██████████| 81/81 [01:45<00:00,  1.30s/it]\n",
      "                 Class     Images  Instances      Box(P          R      mAP50  mAP50-95)     Mask(P          R      mAP50  mAP50-95): 100%|██████████| 5/5 [00:06<00:00,  1.26s/it]\n",
      "                   all        141       2037      0.905      0.676      0.711      0.546      0.797      0.628      0.639      0.422\n",
      "\n",
      "      Epoch    GPU_mem   box_loss   seg_loss   cls_loss   dfl_loss  Instances       Size\n",
      "     47/100      3.52G     0.7424       1.24     0.4149     0.8573         32        640: 100%|██████████| 81/81 [01:39<00:00,  1.22s/it]\n",
      "                 Class     Images  Instances      Box(P          R      mAP50  mAP50-95)     Mask(P          R      mAP50  mAP50-95): 100%|██████████| 5/5 [00:07<00:00,  1.43s/it]\n",
      "                   all        141       2037       0.84      0.666      0.711       0.54      0.759      0.626      0.641      0.419\n",
      "\n",
      "      Epoch    GPU_mem   box_loss   seg_loss   cls_loss   dfl_loss  Instances       Size\n",
      "     48/100       3.4G     0.7338      1.198      0.408     0.8573         24        640: 100%|██████████| 81/81 [01:38<00:00,  1.22s/it]\n",
      "                 Class     Images  Instances      Box(P          R      mAP50  mAP50-95)     Mask(P          R      mAP50  mAP50-95): 100%|██████████| 5/5 [00:06<00:00,  1.29s/it]\n",
      "                   all        141       2037      0.842      0.666      0.699      0.536      0.728      0.613      0.624      0.403\n",
      "\n",
      "      Epoch    GPU_mem   box_loss   seg_loss   cls_loss   dfl_loss  Instances       Size\n",
      "     49/100      3.49G     0.7518      1.222      0.417     0.8574         43        640: 100%|██████████| 81/81 [01:42<00:00,  1.27s/it]\n",
      "                 Class     Images  Instances      Box(P          R      mAP50  mAP50-95)     Mask(P          R      mAP50  mAP50-95): 100%|██████████| 5/5 [00:04<00:00,  1.02it/s]\n",
      "                   all        141       2037      0.898      0.678      0.725      0.544      0.775      0.634      0.638      0.389\n",
      "\n",
      "      Epoch    GPU_mem   box_loss   seg_loss   cls_loss   dfl_loss  Instances       Size\n",
      "     50/100      3.99G     0.7385      1.218     0.4157     0.8567         14        640: 100%|██████████| 81/81 [01:40<00:00,  1.24s/it]\n",
      "                 Class     Images  Instances      Box(P          R      mAP50  mAP50-95)     Mask(P          R      mAP50  mAP50-95): 100%|██████████| 5/5 [00:04<00:00,  1.10it/s]\n",
      "                   all        141       2037      0.824      0.665       0.71      0.541      0.743      0.627      0.638      0.414\n",
      "\n",
      "      Epoch    GPU_mem   box_loss   seg_loss   cls_loss   dfl_loss  Instances       Size\n",
      "     51/100      3.24G     0.7237      1.217     0.4068     0.8534         30        640: 100%|██████████| 81/81 [01:41<00:00,  1.25s/it]\n",
      "                 Class     Images  Instances      Box(P          R      mAP50  mAP50-95)     Mask(P          R      mAP50  mAP50-95): 100%|██████████| 5/5 [00:04<00:00,  1.13it/s]\n",
      "                   all        141       2037      0.894      0.674      0.727      0.555      0.738      0.635       0.64       0.42\n",
      "\n",
      "      Epoch    GPU_mem   box_loss   seg_loss   cls_loss   dfl_loss  Instances       Size\n",
      "     52/100      3.51G     0.7315      1.214     0.4091     0.8548         29        640: 100%|██████████| 81/81 [01:42<00:00,  1.26s/it]\n",
      "                 Class     Images  Instances      Box(P          R      mAP50  mAP50-95)     Mask(P          R      mAP50  mAP50-95): 100%|██████████| 5/5 [00:04<00:00,  1.01it/s]\n",
      "                   all        141       2037      0.938      0.672      0.738      0.559      0.843      0.612      0.658      0.425\n",
      "\n",
      "      Epoch    GPU_mem   box_loss   seg_loss   cls_loss   dfl_loss  Instances       Size\n",
      "     53/100      3.58G     0.7079      1.163     0.4015     0.8559        269        640:  22%|██▏       | 18/81 [00:19<01:10,  1.12s/it]"
     ]
    }
   ],
   "source": [
    "# Train the model on custom dataset\n",
    "model.train(data='/content/Football-Players-6/data.yaml', epochs=100, imgsz=640)"
   ]
  },
  {
   "cell_type": "code",
   "execution_count": null,
   "metadata": {
    "colab": {
     "base_uri": "https://localhost:8080/"
    },
    "executionInfo": {
     "elapsed": 23368,
     "status": "ok",
     "timestamp": 1732136756900,
     "user": {
      "displayName": "Jack Gerry",
      "userId": "13812958749877844851"
     },
     "user_tz": 0
    },
    "id": "Nan5CeF0d6Hm",
    "outputId": "d76ed352-a683-46c8-8280-a5c38762f86f"
   },
   "outputs": [
    {
     "name": "stderr",
     "output_type": "stream",
     "text": [
      "Ultralytics YOLOv8.0.196 🚀 Python-3.10.12 torch-2.5.1+cu121 CUDA:0 (Tesla T4, 15102MiB)\n",
      "YOLOv8n-seg summary (fused): 195 layers, 3258844 parameters, 0 gradients, 12.0 GFLOPs\n",
      "\u001b[34m\u001b[1mval: \u001b[0mScanning /content/Football-Players-6/valid/labels.cache... 141 images, 0 backgrounds, 0 corrupt: 100%|██████████| 141/141 [00:00<?, ?it/s]\n",
      "\u001b[34m\u001b[1mval: \u001b[0mWARNING ⚠️ /content/Football-Players-6/valid/images/209_jpg.rf.80ceb988edcfc4a781312f390dd798d1.jpg: 3 duplicate labels removed\n",
      "                 Class     Images  Instances      Box(P          R      mAP50  mAP50-95)     Mask(P          R      mAP50  mAP50-95):  33%|███▎      | 3/9 [00:04<00:10,  1.67s/it]WARNING ⚠️ NMS time limit 1.300s exceeded\n",
      "                 Class     Images  Instances      Box(P          R      mAP50  mAP50-95)     Mask(P          R      mAP50  mAP50-95): 100%|██████████| 9/9 [00:14<00:00,  1.57s/it]\n",
      "                   all        141       2037      0.859      0.624       0.67      0.513      0.755       0.59      0.619       0.39\n",
      "              football        141         91      0.899      0.253      0.381      0.183      0.508      0.143      0.201     0.0632\n",
      "            goalkeeper        141         29      0.612      0.436      0.437      0.256      0.612      0.436      0.437       0.23\n",
      "                player        141       1790      0.942      0.885      0.921      0.798      0.932      0.876      0.913       0.63\n",
      "               referee        141        127      0.985      0.921       0.94      0.813      0.966      0.904      0.924      0.638\n",
      "Speed: 1.7ms preprocess, 13.9ms inference, 0.0ms loss, 14.5ms postprocess per image\n",
      "Results saved to \u001b[1mruns/segment/val\u001b[0m\n"
     ]
    },
    {
     "data": {
      "text/plain": [
       "ultralytics.utils.metrics.SegmentMetrics object with attributes:\n",
       "\n",
       "ap_class_index: array([0, 1, 2, 3])\n",
       "box: ultralytics.utils.metrics.Metric object\n",
       "confusion_matrix: <ultralytics.utils.metrics.ConfusionMatrix object at 0x787e1e4e32e0>\n",
       "fitness: 0.9415646416917859\n",
       "keys: ['metrics/precision(B)', 'metrics/recall(B)', 'metrics/mAP50(B)', 'metrics/mAP50-95(B)', 'metrics/precision(M)', 'metrics/recall(M)', 'metrics/mAP50(M)', 'metrics/mAP50-95(M)']\n",
       "maps: array([    0.24656,     0.48519,      1.4284,      1.4518])\n",
       "names: {0: 'football', 1: 'goalkeeper', 2: 'player', 3: 'referee'}\n",
       "plot: True\n",
       "results_dict: {'metrics/precision(B)': 0.8593960181583429, 'metrics/recall(B)': 0.6236497648119151, 'metrics/mAP50(B)': 0.6699187924883632, 'metrics/mAP50-95(B)': 0.5126420716261928, 'metrics/precision(M)': 0.7547253944628192, 'metrics/recall(M)': 0.5896813514751728, 'metrics/mAP50(M)': 0.6187895690804592, 'metrics/mAP50-95(M)': 0.39035104563481127, 'fitness': 0.9415646416917859}\n",
       "save_dir: PosixPath('runs/segment/val')\n",
       "seg: ultralytics.utils.metrics.Metric object\n",
       "speed: {'preprocess': 1.669631782152974, 'inference': 13.87178475129689, 'loss': 0.0025752588366785793, 'postprocess': 14.524725312036825}"
      ]
     },
     "execution_count": 7,
     "metadata": {},
     "output_type": "execute_result"
    }
   ],
   "source": [
    "# Validate the model\n",
    "model.val()"
   ]
  },
  {
   "cell_type": "code",
   "execution_count": null,
   "metadata": {
    "colab": {
     "base_uri": "https://localhost:8080/"
    },
    "executionInfo": {
     "elapsed": 388,
     "status": "ok",
     "timestamp": 1732136783294,
     "user": {
      "displayName": "Jack Gerry",
      "userId": "13812958749877844851"
     },
     "user_tz": 0
    },
    "id": "2L4SJdXhG9OK",
    "outputId": "c5bd778b-01fd-4616-a8fb-fd8f4244da63"
   },
   "outputs": [
    {
     "name": "stdout",
     "output_type": "stream",
     "text": [
      "ANSI_X3.4-1968\n"
     ]
    }
   ],
   "source": [
    "# reference this code from here: https://stackoverflow.com/questions/56081324/why-are-google-colab-shell-commands-not-working\n",
    "\n",
    "import locale\n",
    "print(locale.getpreferredencoding())\n"
   ]
  },
  {
   "cell_type": "code",
   "execution_count": null,
   "metadata": {
    "id": "sce_bo4oMIlO"
   },
   "outputs": [],
   "source": [
    "# reference this code from here: https://stackoverflow.com/questions/56081324/why-are-google-colab-shell-commands-not-working\n",
    "def getpreferredencoding(do_setlocale = True):\n",
    "    return \"UTF-8\"\n",
    "locale.getpreferredencoding = getpreferredencoding"
   ]
  },
  {
   "cell_type": "code",
   "execution_count": null,
   "metadata": {
    "colab": {
     "base_uri": "https://localhost:8080/"
    },
    "executionInfo": {
     "elapsed": 1850,
     "status": "ok",
     "timestamp": 1732136824591,
     "user": {
      "displayName": "Jack Gerry",
      "userId": "13812958749877844851"
     },
     "user_tz": 0
    },
    "id": "Nw4BzRP6IuLG",
    "outputId": "e9a9a75e-5016-4ac9-8b3a-5d6cc445ff84"
   },
   "outputs": [
    {
     "name": "stdout",
     "output_type": "stream",
     "text": [
      "  adding: content/runs/ (stored 0%)\n",
      "  adding: content/runs/segment/ (stored 0%)\n",
      "  adding: content/runs/segment/train/ (stored 0%)\n",
      "  adding: content/runs/segment/train/labels.jpg (deflated 24%)\n",
      "  adding: content/runs/segment/train/train_batch2.jpg (deflated 1%)\n",
      "  adding: content/runs/segment/train/val_batch0_labels.jpg (deflated 5%)\n",
      "  adding: content/runs/segment/train/train_batch7291.jpg (deflated 5%)\n",
      "  adding: content/runs/segment/train/confusion_matrix.png (deflated 29%)\n",
      "  adding: content/runs/segment/train/val_batch0_pred.jpg (deflated 5%)\n",
      "  adding: content/runs/segment/train/MaskP_curve.png (deflated 9%)\n",
      "  adding: content/runs/segment/train/confusion_matrix_normalized.png (deflated 26%)\n",
      "  adding: content/runs/segment/train/BoxF1_curve.png (deflated 9%)\n",
      "  adding: content/runs/segment/train/MaskPR_curve.png (deflated 13%)\n",
      "  adding: content/runs/segment/train/BoxP_curve.png (deflated 10%)\n",
      "  adding: content/runs/segment/train/MaskF1_curve.png (deflated 10%)\n",
      "  adding: content/runs/segment/train/train_batch7292.jpg (deflated 5%)\n",
      "  adding: content/runs/segment/train/val_batch2_labels.jpg (deflated 6%)\n",
      "  adding: content/runs/segment/train/train_batch1.jpg (deflated 2%)\n",
      "  adding: content/runs/segment/train/val_batch1_labels.jpg (deflated 5%)\n",
      "  adding: content/runs/segment/train/args.yaml (deflated 51%)\n",
      "  adding: content/runs/segment/train/val_batch1_pred.jpg (deflated 5%)\n",
      "  adding: content/runs/segment/train/train_batch7290.jpg (deflated 4%)\n",
      "  adding: content/runs/segment/train/weights/ (stored 0%)\n",
      "  adding: content/runs/segment/train/weights/last.pt (deflated 11%)\n",
      "  adding: content/runs/segment/train/weights/best.pt (deflated 11%)\n",
      "  adding: content/runs/segment/train/BoxPR_curve.png (deflated 13%)\n",
      "  adding: content/runs/segment/train/labels_correlogram.jpg (deflated 27%)\n",
      "  adding: content/runs/segment/train/train_batch0.jpg (deflated 1%)\n",
      "  adding: content/runs/segment/train/results.csv (deflated 85%)\n",
      "  adding: content/runs/segment/train/results.png (deflated 9%)\n",
      "  adding: content/runs/segment/train/val_batch2_pred.jpg (deflated 5%)\n",
      "  adding: content/runs/segment/train/BoxR_curve.png (deflated 11%)\n",
      "  adding: content/runs/segment/train/events.out.tfevents.1732125634.fb07a80d5d39.798.0 (deflated 76%)\n",
      "  adding: content/runs/segment/train/MaskR_curve.png (deflated 11%)\n",
      "  adding: content/runs/segment/val/ (stored 0%)\n",
      "  adding: content/runs/segment/val/val_batch0_labels.jpg (deflated 5%)\n",
      "  adding: content/runs/segment/val/confusion_matrix.png (deflated 28%)\n",
      "  adding: content/runs/segment/val/val_batch0_pred.jpg (deflated 5%)\n",
      "  adding: content/runs/segment/val/MaskP_curve.png (deflated 9%)\n",
      "  adding: content/runs/segment/val/confusion_matrix_normalized.png (deflated 27%)\n",
      "  adding: content/runs/segment/val/BoxF1_curve.png (deflated 9%)\n",
      "  adding: content/runs/segment/val/MaskPR_curve.png (deflated 14%)\n",
      "  adding: content/runs/segment/val/BoxP_curve.png (deflated 11%)\n",
      "  adding: content/runs/segment/val/MaskF1_curve.png (deflated 9%)\n",
      "  adding: content/runs/segment/val/val_batch2_labels.jpg (deflated 5%)\n",
      "  adding: content/runs/segment/val/val_batch1_labels.jpg (deflated 5%)\n",
      "  adding: content/runs/segment/val/val_batch1_pred.jpg (deflated 5%)\n",
      "  adding: content/runs/segment/val/BoxPR_curve.png (deflated 13%)\n",
      "  adding: content/runs/segment/val/val_batch2_pred.jpg (deflated 5%)\n",
      "  adding: content/runs/segment/val/BoxR_curve.png (deflated 11%)\n",
      "  adding: content/runs/segment/val/MaskR_curve.png (deflated 11%)\n"
     ]
    }
   ],
   "source": [
    "!zip -r /content/runs.zip /content/runs"
   ]
  },
  {
   "cell_type": "code",
   "execution_count": null,
   "metadata": {
    "id": "ChHcMjbkL5iF"
   },
   "outputs": [],
   "source": []
  }
 ],
 "metadata": {
  "accelerator": "GPU",
  "colab": {
   "authorship_tag": "ABX9TyP2qjlC/7vDi9jzxkpFGMNT",
   "gpuType": "T4",
   "mount_file_id": "1gUzEyOIPSBrIRw2wuDfT-0U99Rse0COd",
   "provenance": []
  },
  "kernelspec": {
   "display_name": "Python 3",
   "name": "python3"
  },
  "language_info": {
   "name": "python",
   "version": "3.11.10"
  }
 },
 "nbformat": 4,
 "nbformat_minor": 0
}
